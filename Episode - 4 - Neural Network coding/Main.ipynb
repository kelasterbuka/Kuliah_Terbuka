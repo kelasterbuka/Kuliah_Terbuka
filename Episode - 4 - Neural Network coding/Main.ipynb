{
 "cells": [
  {
   "cell_type": "code",
   "execution_count": 78,
   "metadata": {},
   "outputs": [],
   "source": [
    "%matplotlib inline\n",
    "import numpy as np\n",
    "import pandas as pd\n",
    "from sklearn.utils import shuffle\n",
    "\n",
    "import matplotlib.pyplot as plt\n",
    "\n",
    "from fungsi import sigmoid"
   ]
  },
  {
   "cell_type": "markdown",
   "metadata": {},
   "source": [
    "# Generate Data"
   ]
  },
  {
   "cell_type": "markdown",
   "metadata": {},
   "source": [
    "## Data Otong"
   ]
  },
  {
   "cell_type": "code",
   "execution_count": 79,
   "metadata": {},
   "outputs": [],
   "source": [
    "# tinggi badan\n",
    "x1 = np.array([18 + 1*np.random.randn() for i in range(1,100)])\n",
    "# berat badan\n",
    "x2 = np.array([5 + 1*np.random.randn() for i in range(1,100)])\n",
    "# status otong\n",
    "y1 = np.array([1 for i in range(1,100)])\n",
    "# status ucup\n",
    "y2 = np.array([0 for i in range(1,100)])\n",
    "# label\n",
    "label = [\"otong\" for i in range(1,100)]\n",
    "\n",
    "# data compilasi\n",
    "data_otong = {\n",
    "\t'x1':x1,\n",
    "\t'x2':x2,\n",
    "\t'y1':y1,\n",
    "\t'y2':y2,\n",
    "\t'label':label,\n",
    "}\n",
    "\n",
    "# data frame\n",
    "data_frame_1 = pd.DataFrame(data=data_otong)"
   ]
  },
  {
   "cell_type": "code",
   "execution_count": 80,
   "metadata": {},
   "outputs": [
    {
     "name": "stdout",
     "output_type": "stream",
     "text": [
      "           x1        x2  y1  y2  label\n",
      "0   18.457877  3.905578   1   0  otong\n",
      "1   18.341258  4.012305   1   0  otong\n",
      "2   17.342222  4.561626   1   0  otong\n",
      "3   17.720481  4.256217   1   0  otong\n",
      "4   18.787607  4.116506   1   0  otong\n",
      "..        ...       ...  ..  ..    ...\n",
      "94  16.514008  5.022133   1   0  otong\n",
      "95  19.792485  5.756503   1   0  otong\n",
      "96  17.832847  6.302602   1   0  otong\n",
      "97  19.611068  4.841429   1   0  otong\n",
      "98  15.947240  6.075181   1   0  otong\n",
      "\n",
      "[99 rows x 5 columns]\n"
     ]
    }
   ],
   "source": [
    "print(data_frame_1)"
   ]
  },
  {
   "cell_type": "markdown",
   "metadata": {},
   "source": [
    "## Data Ucup"
   ]
  },
  {
   "cell_type": "code",
   "execution_count": 81,
   "metadata": {},
   "outputs": [],
   "source": [
    "# tinggi badan\n",
    "x1 = np.array([10 + 1*np.random.randn() for i in range(1,100)])\n",
    "# berat badan\n",
    "x2 = np.array([8 + 1*np.random.randn() for i in range(1,100)])\n",
    "# status otong\n",
    "y1 = np.array([0 for i in range(1,100)])\n",
    "# status ucup\n",
    "y2 = np.array([1 for i in range(1,100)])\n",
    "# label\n",
    "label = [\"ucup\" for i in range(1,100)]\n",
    "\n",
    "# data compilasi\n",
    "data_ucup = {\n",
    "\t'x1':x1,\n",
    "\t'x2':x2,\n",
    "\t'y1':y1,\n",
    "\t'y2':y2,\n",
    "\t'label':label,\n",
    "}\n",
    "\n",
    "# data frame\n",
    "data_frame_2 = pd.DataFrame(data=data_ucup)"
   ]
  },
  {
   "cell_type": "code",
   "execution_count": 82,
   "metadata": {},
   "outputs": [
    {
     "name": "stdout",
     "output_type": "stream",
     "text": [
      "           x1        x2  y1  y2 label\n",
      "0    9.951737  8.839578   0   1  ucup\n",
      "1   10.492366  6.134623   0   1  ucup\n",
      "2   10.433426  6.922032   0   1  ucup\n",
      "3   10.895391  7.170203   0   1  ucup\n",
      "4   11.200194  7.421145   0   1  ucup\n",
      "..        ...       ...  ..  ..   ...\n",
      "94   8.616900  8.702309   0   1  ucup\n",
      "95  10.110225  8.042860   0   1  ucup\n",
      "96   9.469162  7.998276   0   1  ucup\n",
      "97  10.619605  7.668880   0   1  ucup\n",
      "98   8.268681  8.381217   0   1  ucup\n",
      "\n",
      "[99 rows x 5 columns]\n"
     ]
    }
   ],
   "source": [
    "print(data_frame_2)"
   ]
  },
  {
   "cell_type": "markdown",
   "metadata": {},
   "source": [
    "## Gabungkan data"
   ]
  },
  {
   "cell_type": "code",
   "execution_count": 83,
   "metadata": {},
   "outputs": [],
   "source": [
    "data_frame = pd.concat([data_frame_1,data_frame_2])\n",
    "data_frame = shuffle(data_frame)\n",
    "data_frame.reset_index(inplace=True,drop=True)"
   ]
  },
  {
   "cell_type": "code",
   "execution_count": 84,
   "metadata": {},
   "outputs": [
    {
     "name": "stdout",
     "output_type": "stream",
     "text": [
      "            x1        x2  y1  y2  label\n",
      "0    17.438644  5.717908   1   0  otong\n",
      "1    10.151747  7.656394   0   1   ucup\n",
      "2    15.947240  6.075181   1   0  otong\n",
      "3    17.222221  7.080158   1   0  otong\n",
      "4     9.905091  9.732710   0   1   ucup\n",
      "..         ...       ...  ..  ..    ...\n",
      "193  18.976721  6.050084   1   0  otong\n",
      "194  18.110733  5.559253   1   0  otong\n",
      "195  18.032018  5.838846   1   0  otong\n",
      "196  10.895391  7.170203   0   1   ucup\n",
      "197  18.745408  5.198861   1   0  otong\n",
      "\n",
      "[198 rows x 5 columns]\n"
     ]
    }
   ],
   "source": [
    "print(data_frame)"
   ]
  },
  {
   "cell_type": "code",
   "execution_count": 85,
   "metadata": {},
   "outputs": [
    {
     "data": {
      "image/png": "[encoded data removed]",
      "text/plain": [
       "<Figure size 432x288 with 1 Axes>"
      ]
     },
     "metadata": {
      "needs_background": "light"
     },
     "output_type": "display_data"
    }
   ],
   "source": [
    "plt.scatter(data_frame_1.x1,data_frame_1.x2)\n",
    "plt.scatter(data_frame_2.x1,data_frame_2.x2)\n",
    "plt.show()"
   ]
  },
  {
   "cell_type": "markdown",
   "metadata": {},
   "source": [
    "# Neural Networknya"
   ]
  },
  {
   "cell_type": "markdown",
   "metadata": {},
   "source": [
    "## 1. Matrix Weight"
   ]
  },
  {
   "cell_type": "code",
   "execution_count": 101,
   "metadata": {},
   "outputs": [],
   "source": [
    "w11 = np.random.uniform(-0.01,0.01)\n",
    "w12 = np.random.uniform(-0.01,0.01)\n",
    "w21 = np.random.uniform(-0.01,0.01)\n",
    "w22 = np.random.uniform(-0.01,0.01)\n",
    "\n",
    "W = np.array([[w11,w12],[w21,w22]])"
   ]
  },
  {
   "cell_type": "code",
   "execution_count": 102,
   "metadata": {},
   "outputs": [
    {
     "name": "stdout",
     "output_type": "stream",
     "text": [
      "[[ 0.00851243  0.00996525]\n",
      " [-0.0046621   0.00549688]]\n"
     ]
    }
   ],
   "source": [
    "print(W)"
   ]
  },
  {
   "cell_type": "markdown",
   "metadata": {},
   "source": [
    "## 2. Iterasi Neural Networknya"
   ]
  },
  {
   "cell_type": "code",
   "execution_count": 103,
   "metadata": {},
   "outputs": [
    {
     "name": "stdout",
     "output_type": "stream",
     "text": [
      "index = 0, tebakan = otong, jawaban = otong\n",
      "index = 1, tebakan = otong, jawaban = ucup\n",
      "index = 2, tebakan = otong, jawaban = otong\n",
      "index = 3, tebakan = otong, jawaban = otong\n",
      "index = 4, tebakan = otong, jawaban = ucup\n",
      "index = 5, tebakan = otong, jawaban = otong\n",
      "index = 6, tebakan = otong, jawaban = otong\n",
      "index = 7, tebakan = otong, jawaban = otong\n",
      "index = 8, tebakan = otong, jawaban = ucup\n",
      "index = 9, tebakan = otong, jawaban = otong\n",
      "index = 10, tebakan = otong, jawaban = ucup\n",
      "index = 11, tebakan = otong, jawaban = otong\n",
      "index = 12, tebakan = otong, jawaban = otong\n",
      "index = 13, tebakan = otong, jawaban = ucup\n",
      "index = 14, tebakan = otong, jawaban = otong\n",
      "index = 15, tebakan = otong, jawaban = ucup\n",
      "index = 16, tebakan = ucup, jawaban = ucup\n",
      "index = 17, tebakan = otong, jawaban = otong\n",
      "index = 18, tebakan = otong, jawaban = otong\n",
      "index = 19, tebakan = otong, jawaban = otong\n",
      "index = 20, tebakan = otong, jawaban = otong\n",
      "index = 21, tebakan = otong, jawaban = otong\n",
      "index = 22, tebakan = otong, jawaban = ucup\n",
      "index = 23, tebakan = otong, jawaban = otong\n",
      "index = 24, tebakan = otong, jawaban = otong\n",
      "index = 25, tebakan = ucup, jawaban = ucup\n",
      "index = 26, tebakan = ucup, jawaban = ucup\n",
      "index = 27, tebakan = ucup, jawaban = ucup\n",
      "index = 28, tebakan = otong, jawaban = otong\n",
      "index = 29, tebakan = ucup, jawaban = ucup\n",
      "index = 30, tebakan = ucup, jawaban = ucup\n",
      "index = 31, tebakan = otong, jawaban = otong\n",
      "index = 32, tebakan = ucup, jawaban = ucup\n",
      "index = 33, tebakan = ucup, jawaban = ucup\n",
      "index = 34, tebakan = ucup, jawaban = ucup\n",
      "index = 35, tebakan = ucup, jawaban = ucup\n",
      "index = 36, tebakan = ucup, jawaban = ucup\n",
      "index = 37, tebakan = ucup, jawaban = ucup\n",
      "index = 38, tebakan = ucup, jawaban = ucup\n",
      "index = 39, tebakan = ucup, jawaban = ucup\n",
      "index = 40, tebakan = otong, jawaban = otong\n",
      "index = 41, tebakan = ucup, jawaban = ucup\n",
      "index = 42, tebakan = ucup, jawaban = ucup\n",
      "index = 43, tebakan = otong, jawaban = otong\n",
      "index = 44, tebakan = otong, jawaban = otong\n",
      "index = 45, tebakan = otong, jawaban = otong\n",
      "index = 46, tebakan = otong, jawaban = otong\n",
      "index = 47, tebakan = otong, jawaban = ucup\n",
      "index = 48, tebakan = ucup, jawaban = ucup\n",
      "index = 49, tebakan = otong, jawaban = otong\n",
      "index = 50, tebakan = otong, jawaban = otong\n",
      "index = 51, tebakan = ucup, jawaban = ucup\n",
      "index = 52, tebakan = otong, jawaban = otong\n",
      "index = 53, tebakan = otong, jawaban = otong\n",
      "index = 54, tebakan = otong, jawaban = otong\n",
      "index = 55, tebakan = ucup, jawaban = ucup\n",
      "index = 56, tebakan = ucup, jawaban = ucup\n",
      "index = 57, tebakan = otong, jawaban = otong\n",
      "index = 58, tebakan = otong, jawaban = otong\n",
      "index = 59, tebakan = otong, jawaban = otong\n",
      "index = 60, tebakan = ucup, jawaban = ucup\n",
      "index = 61, tebakan = ucup, jawaban = ucup\n",
      "index = 62, tebakan = otong, jawaban = otong\n",
      "index = 63, tebakan = ucup, jawaban = ucup\n",
      "index = 64, tebakan = ucup, jawaban = ucup\n",
      "index = 65, tebakan = otong, jawaban = otong\n",
      "index = 66, tebakan = otong, jawaban = otong\n",
      "index = 67, tebakan = ucup, jawaban = ucup\n",
      "index = 68, tebakan = otong, jawaban = otong\n",
      "index = 69, tebakan = otong, jawaban = otong\n",
      "index = 70, tebakan = otong, jawaban = otong\n",
      "index = 71, tebakan = ucup, jawaban = ucup\n",
      "index = 72, tebakan = otong, jawaban = otong\n",
      "index = 73, tebakan = ucup, jawaban = ucup\n",
      "index = 74, tebakan = otong, jawaban = otong\n",
      "index = 75, tebakan = otong, jawaban = otong\n",
      "index = 76, tebakan = otong, jawaban = otong\n",
      "index = 77, tebakan = ucup, jawaban = ucup\n",
      "index = 78, tebakan = ucup, jawaban = ucup\n",
      "index = 79, tebakan = otong, jawaban = otong\n",
      "index = 80, tebakan = otong, jawaban = otong\n",
      "index = 81, tebakan = ucup, jawaban = ucup\n",
      "index = 82, tebakan = otong, jawaban = otong\n",
      "index = 83, tebakan = otong, jawaban = otong\n",
      "index = 84, tebakan = otong, jawaban = otong\n",
      "index = 85, tebakan = otong, jawaban = otong\n",
      "index = 86, tebakan = ucup, jawaban = ucup\n",
      "index = 87, tebakan = otong, jawaban = otong\n",
      "index = 88, tebakan = otong, jawaban = otong\n",
      "index = 89, tebakan = ucup, jawaban = ucup\n",
      "index = 90, tebakan = otong, jawaban = otong\n",
      "index = 91, tebakan = ucup, jawaban = ucup\n",
      "index = 92, tebakan = ucup, jawaban = ucup\n",
      "index = 93, tebakan = otong, jawaban = otong\n",
      "index = 94, tebakan = ucup, jawaban = ucup\n",
      "index = 95, tebakan = otong, jawaban = otong\n",
      "index = 96, tebakan = ucup, jawaban = ucup\n",
      "index = 97, tebakan = otong, jawaban = otong\n",
      "index = 98, tebakan = ucup, jawaban = ucup\n",
      "index = 99, tebakan = ucup, jawaban = ucup\n",
      "index = 100, tebakan = ucup, jawaban = ucup\n",
      "index = 101, tebakan = ucup, jawaban = ucup\n",
      "index = 102, tebakan = otong, jawaban = otong\n",
      "index = 103, tebakan = otong, jawaban = otong\n",
      "index = 104, tebakan = ucup, jawaban = ucup\n",
      "index = 105, tebakan = ucup, jawaban = ucup\n",
      "index = 106, tebakan = otong, jawaban = otong\n",
      "index = 107, tebakan = ucup, jawaban = ucup\n",
      "index = 108, tebakan = ucup, jawaban = ucup\n",
      "index = 109, tebakan = otong, jawaban = otong\n",
      "index = 110, tebakan = ucup, jawaban = ucup\n",
      "index = 111, tebakan = ucup, jawaban = ucup\n",
      "index = 112, tebakan = otong, jawaban = otong\n",
      "index = 113, tebakan = otong, jawaban = otong\n",
      "index = 114, tebakan = ucup, jawaban = ucup\n",
      "index = 115, tebakan = otong, jawaban = otong\n",
      "index = 116, tebakan = otong, jawaban = otong\n",
      "index = 117, tebakan = ucup, jawaban = ucup\n",
      "index = 118, tebakan = otong, jawaban = otong\n",
      "index = 119, tebakan = otong, jawaban = otong\n",
      "index = 120, tebakan = ucup, jawaban = ucup\n",
      "index = 121, tebakan = otong, jawaban = otong\n",
      "index = 122, tebakan = ucup, jawaban = ucup\n",
      "index = 123, tebakan = ucup, jawaban = ucup\n",
      "index = 124, tebakan = otong, jawaban = otong\n",
      "index = 125, tebakan = otong, jawaban = otong\n",
      "index = 126, tebakan = otong, jawaban = otong\n",
      "index = 127, tebakan = ucup, jawaban = ucup\n",
      "index = 128, tebakan = otong, jawaban = otong\n",
      "index = 129, tebakan = ucup, jawaban = ucup\n",
      "index = 130, tebakan = ucup, jawaban = ucup\n",
      "index = 131, tebakan = ucup, jawaban = ucup\n",
      "index = 132, tebakan = otong, jawaban = otong\n",
      "index = 133, tebakan = ucup, jawaban = ucup\n",
      "index = 134, tebakan = otong, jawaban = otong\n",
      "index = 135, tebakan = otong, jawaban = otong\n",
      "index = 136, tebakan = ucup, jawaban = ucup\n",
      "index = 137, tebakan = otong, jawaban = otong\n",
      "index = 138, tebakan = otong, jawaban = otong\n",
      "index = 139, tebakan = ucup, jawaban = ucup\n",
      "index = 140, tebakan = ucup, jawaban = ucup\n",
      "index = 141, tebakan = ucup, jawaban = ucup\n",
      "index = 142, tebakan = ucup, jawaban = ucup\n",
      "index = 143, tebakan = ucup, jawaban = ucup\n",
      "index = 144, tebakan = otong, jawaban = otong\n",
      "index = 145, tebakan = otong, jawaban = otong\n",
      "index = 146, tebakan = ucup, jawaban = ucup\n",
      "index = 147, tebakan = ucup, jawaban = ucup\n",
      "index = 148, tebakan = ucup, jawaban = ucup\n",
      "index = 149, tebakan = otong, jawaban = otong\n",
      "index = 150, tebakan = ucup, jawaban = ucup\n",
      "index = 151, tebakan = otong, jawaban = otong\n",
      "index = 152, tebakan = otong, jawaban = otong\n",
      "index = 153, tebakan = ucup, jawaban = ucup\n",
      "index = 154, tebakan = ucup, jawaban = ucup\n",
      "index = 155, tebakan = otong, jawaban = otong\n",
      "index = 156, tebakan = ucup, jawaban = ucup\n",
      "index = 157, tebakan = ucup, jawaban = ucup\n",
      "index = 158, tebakan = ucup, jawaban = ucup\n",
      "index = 159, tebakan = otong, jawaban = otong\n",
      "index = 160, tebakan = otong, jawaban = otong\n",
      "index = 161, tebakan = ucup, jawaban = ucup\n",
      "index = 162, tebakan = otong, jawaban = otong\n",
      "index = 163, tebakan = ucup, jawaban = ucup\n",
      "index = 164, tebakan = ucup, jawaban = ucup\n",
      "index = 165, tebakan = otong, jawaban = otong\n",
      "index = 166, tebakan = otong, jawaban = otong\n",
      "index = 167, tebakan = otong, jawaban = ucup\n",
      "index = 168, tebakan = otong, jawaban = otong\n",
      "index = 169, tebakan = ucup, jawaban = ucup\n",
      "index = 170, tebakan = otong, jawaban = otong\n",
      "index = 171, tebakan = ucup, jawaban = ucup\n",
      "index = 172, tebakan = otong, jawaban = otong\n",
      "index = 173, tebakan = otong, jawaban = otong\n",
      "index = 174, tebakan = ucup, jawaban = ucup\n",
      "index = 175, tebakan = ucup, jawaban = ucup\n",
      "index = 176, tebakan = ucup, jawaban = ucup\n",
      "index = 177, tebakan = ucup, jawaban = ucup\n",
      "index = 178, tebakan = ucup, jawaban = ucup\n",
      "index = 179, tebakan = otong, jawaban = otong\n",
      "index = 180, tebakan = ucup, jawaban = ucup\n",
      "index = 181, tebakan = otong, jawaban = otong\n",
      "index = 182, tebakan = ucup, jawaban = ucup\n",
      "index = 183, tebakan = otong, jawaban = otong\n",
      "index = 184, tebakan = ucup, jawaban = ucup\n",
      "index = 185, tebakan = ucup, jawaban = ucup\n",
      "index = 186, tebakan = ucup, jawaban = ucup\n",
      "index = 187, tebakan = otong, jawaban = otong\n",
      "index = 188, tebakan = ucup, jawaban = ucup\n",
      "index = 189, tebakan = ucup, jawaban = ucup\n",
      "index = 190, tebakan = ucup, jawaban = ucup\n",
      "index = 191, tebakan = otong, jawaban = otong\n",
      "index = 192, tebakan = otong, jawaban = otong\n",
      "index = 193, tebakan = otong, jawaban = otong\n",
      "index = 194, tebakan = otong, jawaban = otong\n",
      "index = 195, tebakan = otong, jawaban = otong\n",
      "index = 196, tebakan = ucup, jawaban = ucup\n",
      "index = 197, tebakan = otong, jawaban = otong\n"
     ]
    }
   ],
   "source": [
    "learning_rate = 0.1\n",
    "answer = []\n",
    "error_array = np.zeros((2,len(data_frame)))\n",
    "for index,baris in data_frame.iterrows():\n",
    "\tW_lama = W\n",
    "\tinput = np.array([[baris.x1],[baris.x2]])\n",
    "\toutput_hidden = np.dot(W_lama,input)\n",
    "\toutput_learn = sigmoid(output_hidden)\n",
    "\toutput_actual = np.array([[baris.y1],[baris.y2]])\n",
    "\n",
    "\terror = output_actual - output_learn\n",
    "\n",
    "\tdelta_W = np.dot(learning_rate*error*output_learn*(1-output_learn),input.T)\n",
    "\n",
    "\tW_baru = W_lama + delta_W\n",
    "\tW = W_baru\n",
    "\n",
    "\terror_array[:,index] = error.T*error.T\n",
    "\n",
    "\ttebakan = np.argmax(output_learn)\n",
    "\tjawaban = np.argmax(output_actual)\n",
    "\n",
    "\tlabel_tebakan = \"ucup\" if tebakan == 1 else \"otong\"\n",
    "\n",
    "\tprint(f\"index = {index}, tebakan = {label_tebakan}, jawaban = {baris.label}\")\n",
    "\n",
    "\tif tebakan == jawaban:\n",
    "\t\tanswer.append(1)\n",
    "\telse:\n",
    "\t\tanswer.append(0)"
   ]
  },
  {
   "cell_type": "code",
   "execution_count": 104,
   "metadata": {},
   "outputs": [
    {
     "data": {
      "text/plain": [
       "[<matplotlib.lines.Line2D at 0x1476db250>,\n",
       " <matplotlib.lines.Line2D at 0x1476db2b0>]"
      ]
     },
     "execution_count": 104,
     "metadata": {},
     "output_type": "execute_result"
    },
    {
     "data": {
      "image/png": "[encoded data removed]",
      "text/plain": [
       "<Figure size 432x288 with 1 Axes>"
      ]
     },
     "metadata": {
      "needs_background": "light"
     },
     "output_type": "display_data"
    }
   ],
   "source": [
    "plt.plot(error_array.T)"
   ]
  },
  {
   "cell_type": "code",
   "execution_count": 105,
   "metadata": {},
   "outputs": [
    {
     "data": {
      "text/plain": [
       "[<matplotlib.lines.Line2D at 0x147597070>]"
      ]
     },
     "execution_count": 105,
     "metadata": {},
     "output_type": "execute_result"
    },
    {
     "data": {
      "image/png": "[encoded data removed]",
      "text/plain": [
       "<Figure size 432x288 with 1 Axes>"
      ]
     },
     "metadata": {
      "needs_background": "light"
     },
     "output_type": "display_data"
    }
   ],
   "source": [
    "plt.plot(answer)"
   ]
  },
  {
   "cell_type": "code",
   "execution_count": 110,
   "metadata": {},
   "outputs": [
    {
     "name": "stdout",
     "output_type": "stream",
     "text": [
      "tinggi = 190, berat = 30, adalah otong\n"
     ]
    }
   ],
   "source": [
    "x1 = 19\n",
    "x2 = 3\n",
    "\n",
    "input = np.array([[x1],[x2]])\n",
    "output_hidden = np.dot(W,input)\n",
    "output_prediction = sigmoid(output_hidden)\n",
    "\n",
    "prediction = np.argmax(output_prediction)\n",
    "\n",
    "label_prediction = \"ucup\" if prediction == 1 else \"otong\"\n",
    "\n",
    "print(f\"tinggi = {x1*10}, berat = {x2*10}, adalah {label_prediction}\")"
   ]
  },
  {
   "cell_type": "code",
   "execution_count": null,
   "metadata": {},
   "outputs": [],
   "source": []
  }
 ],
 "metadata": {
  "interpreter": {
   "hash": "fff7dac57c6b8b84684db3f727a99d419e747137920cf0cfc0381f6f12069a6a"
  },
  "kernelspec": {
   "display_name": "Python 3.9.7 ('Env': venv)",
   "language": "python",
   "name": "python3"
  },
  "language_info": {
   "codemirror_mode": {
    "name": "ipython",
    "version": 3
   },
   "file_extension": ".py",
   "mimetype": "text/x-python",
   "name": "python",
   "nbconvert_exporter": "python",
   "pygments_lexer": "ipython3",
   "version": "3.9.7"
  },
  "orig_nbformat": 4
 },
 "nbformat": 4,
 "nbformat_minor": 2
}
